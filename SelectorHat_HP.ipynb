{
  "nbformat": 4,
  "nbformat_minor": 0,
  "metadata": {
    "colab": {
      "provenance": [],
      "include_colab_link": true
    },
    "kernelspec": {
      "name": "python3",
      "display_name": "Python 3"
    },
    "language_info": {
      "name": "python"
    }
  },
  "cells": [
    {
      "cell_type": "markdown",
      "metadata": {
        "id": "view-in-github",
        "colab_type": "text"
      },
      "source": [
        "<a href=\"https://colab.research.google.com/github/katiacardoso/SelectorHat/blob/main/SelectorHat_HP.ipynb\" target=\"_parent\"><img src=\"https://colab.research.google.com/assets/colab-badge.svg\" alt=\"Open In Colab\"/></a>"
      ]
    },
    {
      "cell_type": "markdown",
      "source": [
        "\n",
        "# *Rede neural artificial (RNA) para classificação de texto utilizando        NLTK(Natural Language Toolkit)*\n",
        "## *Discentes:* Katia Cardoso e Mariana Dias"
      ],
      "metadata": {
        "id": "iT1OSQLi6o_Z"
      }
    },
    {
      "cell_type": "markdown",
      "source": [
        "Utilizamos camadas de neurônios, camada ocultas e uma abordagem de \"saco de palavras\" para organizar nossos dados de treinamento. A classificação de texto vem em 3 fatores: correspondência de padrões, algoritmos, redes neurais."
      ],
      "metadata": {
        "id": "Csh0MRap691h"
      }
    },
    {
      "cell_type": "markdown",
      "source": [
        "Precisamos de uma maneira de tokenizar palavras de forma confiável"
      ],
      "metadata": {
        "id": "dlbbgZo989Th"
      }
    },
    {
      "cell_type": "code",
      "execution_count": null,
      "metadata": {
        "colab": {
          "base_uri": "https://localhost:8080/"
        },
        "id": "eVrFrdwe3oRz",
        "outputId": "64dd9a3f-71a4-45b9-c9fe-203a5b14f9d8"
      },
      "outputs": [
        {
          "output_type": "stream",
          "name": "stdout",
          "text": [
            "antes:  (139, 3)\n",
            "depois:  (101, 3)\n",
            "[[1, 'Harry James Potter', 'Gryffindor'], [2, 'Ronald Bilius Weasley', 'Gryffindor'], [3, 'Hermione Jean Granger', 'Gryffindor'], [4, 'Albus Percival Wulfric Brian Dumbledore', 'Gryffindor'], [5, 'Rubeus Hagrid', 'Gryffindor'], [6, 'Neville Longbottom', 'Gryffindor'], [7, 'Fred Weasley', 'Gryffindor'], [8, 'George Weasley', 'Gryffindor'], [9, 'Ginevra (Ginny) Molly Weasley', 'Gryffindor'], [10, 'Dean Thomas', 'Gryffindor'], [11, 'Seamus Finnigan', 'Gryffindor'], [12, 'Lily J. Potter', 'Gryffindor'], [13, 'James Potter', 'Gryffindor'], [14, 'Sirius Black', 'Gryffindor'], [15, 'Remus John Lupin', 'Gryffindor'], [16, 'Peter Pettigrew', 'Gryffindor'], [17, 'Percy Ignatius Weasley', 'Gryffindor'], [18, '(Bill) William Arthur Weasley', 'Gryffindor'], [19, 'Charles Weasley', 'Gryffindor'], [20, 'Lee Jordan\\xa0', 'Gryffindor'], [21, 'Oliver Wood', 'Gryffindor'], [22, 'Angelina Johnson', 'Gryffindor'], [23, 'Katie Bell', 'Gryffindor'], [24, 'Alicia Spinnet', 'Gryffindor'], [25, 'Lavender Brown', 'Gryffindor'], [26, 'Parvati Patil', 'Gryffindor'], [27, 'Romilda Vane', 'Gryffindor'], [28, 'Colin Creevey', 'Gryffindor'], [29, 'Cormac McLaggen', 'Gryffindor'], [30, 'Minerva McGonagall', 'Gryffindor'], [31, 'Molly Weasley', 'Gryffindor'], [32, 'Arthur Weasley', 'Gryffindor'], [33, 'Quirinus Quirrell', 'Ravenclaw'], [34, 'Cho Chang', 'Ravenclaw'], [35, 'Luna Lovegood', 'Ravenclaw'], [36, 'Gilderoy Lockhart', 'Ravenclaw'], [37, 'Filius Flitwick', 'Ravenclaw'], [38, 'Sybill Patricia Trelawney', 'Ravenclaw'], [39, 'Garrick Ollivander', 'Ravenclaw'], [40, 'Myrtle Elizabeth Warren (Moaning Myrtle)', 'Ravenclaw'], [41, 'Padma Patil', 'Ravenclaw'], [42, 'Michael Corner', 'Ravenclaw'], [43, 'Marietta Edgecombe', 'Ravenclaw'], [44, 'Terry Boot', 'Ravenclaw'], [45, 'Anthony Goldstein', 'Ravenclaw'], [46, 'Severus Snape', 'Slytherin'], [47, 'Draco Malfoy', 'Slytherin'], [48, 'Vincent Crabbe', 'Slytherin'], [49, 'Gregory Goyle', 'Slytherin'], [50, 'Bellatrix Lestrange', 'Slytherin'], [51, 'Dolores Jane Umbridge', 'Slytherin'], [52, 'Horace Eugene Flaccus Slughorn', 'Slytherin'], [53, 'Lucius Malfoy', 'Slytherin'], [54, 'Narcissa Malfoy', 'Slytherin'], [55, 'Regulus Arcturus Black', 'Slytherin'], [56, 'Pansy Parkinson', 'Slytherin'], [57, 'Blaise Zabini', 'Slytherin'], [58, 'Tom Marvolo Riddle', 'Slytherin'], [59, 'Theodore Nott', 'Slytherin'], [60, 'Rodolphus Lestrange', 'Slytherin'], [61, 'Millicent Bulstrode', 'Slytherin'], [62, 'Graham Montague', 'Slytherin'], [63, 'Bloody Baron', 'Slytherin'], [64, 'Marcus Flint', 'Slytherin'], [65, 'Penelope Clearwater', 'Ravenclaw'], [66, 'Roger Davies', 'Ravenclaw'], [67, 'Marcus Belby', 'Ravenclaw'], [68, 'Salazar Slytherin', 'Slytherin'], [69, 'Godric Gryffindor', 'Gryffindor'], [70, 'Rowena Ravenclaw', 'Ravenclaw'], [71, 'Nicholas de Mimsy-Porpington', 'Gryffindor'], [76, 'Alecto Carrow', 'Slytherin'], [77, 'Amycus Carrow', 'Slytherin'], [78, 'Helga Hufflepuff', 'Hufflepuff'], [79, 'Fat Friar', 'Hufflepuff'], [80, 'Helena Ravenclaw', 'Ravenclaw'], [81, 'Nymphadora Tonks', 'Hufflepuff'], [82, 'Pomona Sprout', 'Hufflepuff'], [83, 'Newton Scamander', 'Hufflepuff'], [84, 'Cedric Diggory', 'Hufflepuff'], [85, 'Justin Finch-Fletchley', 'Hufflepuff'], [86, 'Zacharias Smith', 'Hufflepuff'], [87, 'Hannah Abbott', 'Hufflepuff'], [88, 'Ernest Macmillan', 'Hufflepuff'], [89, 'Susan Bones', 'Hufflepuff'], [90, 'Walden Macnair', 'Slytherin'], [91, 'Augustus Rookwood', 'Slytherin'], [92, 'Antonin Dolohov', 'Slytherin'], [93, 'Corban Yaxley', 'Slytherin'], [98, 'Frank Longbottom', 'Gryffindor'], [105, 'Fleur Isabelle Delacour', 'Beauxbatons Academy of Magic'], [114, 'Edgar Bones', 'Hufflepuff'], [117, 'Madame Olympe Maxime', 'Beauxbatons Academy of Magic'], [118, 'Gabrielle Delacour', 'Beauxbatons Academy of Magic'], [119, 'Viktor Krum', 'Durmstrang Institute'], [124, 'Dennis Creevey', 'Gryffindor'], [125, 'Albus Severus Potter', 'Slytherin'], [126, 'Scorpius Hyperion Malfoy', 'Slytherin'], [127, 'Edward Remus Lupin', 'Hufflepuff'], [128, 'James Sirius Potter', 'Gryffindor'], [129, 'Rose Granger-Weasley', 'Gryffindor']]\n"
          ]
        }
      ],
      "source": [
        "# use natural language toolkit\n",
        "import nltk\n",
        "from nltk.stem.lancaster import LancasterStemmer\n",
        "import os\n",
        "import json\n",
        "import datetime\n",
        "stemmer = LancasterStemmer()\n",
        "import pandas as pd\n",
        "import sklearn\n",
        "import numpy as np\n",
        "\n",
        "#importação dos dados\n",
        "url = 'https://raw.githubusercontent.com/katiacardoso/SelectorHat/main/Characters.csv'\n",
        "data = pd.read_csv(url, usecols=['Id','House','Name'], on_bad_lines='skip', delimiter=';')\n",
        "\n",
        "'''url2 = 'https://raw.githubusercontent.com/solankiharsh/sorting_hat_classification/main/data/dataset_train.csv'\n",
        "data2 = pd.read_csv(url2, usecols=['Index','Hogwarts House','First Name'], on_bad_lines='skip', delimiter=',')\n",
        "\n",
        "data2 = data2.rename(columns = {'Index':'Id'})\n",
        "data2 = data2.rename(columns = {'Hogwarts House':'House'})\n",
        "data2 = data2.rename(columns = {'First Name':'Name'})\n",
        "\n",
        "data = data.append(data2, ignore_index=True)\n",
        "\n",
        "#data = data.replace(np.nan, 'Unknow')'''\n",
        "\n",
        "#remoção de nulos\n",
        "shape_antes=data.shape\n",
        "print(\"antes: \", shape_antes)\n",
        "data.dropna(subset=['House'], inplace=True)\n",
        "shape_depois = data.shape\n",
        "print(\"depois: \", shape_depois)\n",
        "\n",
        "list_data = [list(row) for row in data.values]\n",
        "print(list_data)\n",
        "\n",
        "#mostra todos os dados no head\n",
        "#pd.set_option('max_rows',999)\n",
        "#data.info"
      ]
    },
    {
      "cell_type": "code",
      "source": [
        "# classes of training data\n",
        "training_data = list_data\n",
        "print (\"%s sentences in training data\" % len(training_data))\n",
        "i = len(training_data)"
      ],
      "metadata": {
        "colab": {
          "base_uri": "https://localhost:8080/"
        },
        "id": "geCkoOq16DSX",
        "outputId": "ec3e47b4-b30e-469f-f8a0-0fbedd6db19f"
      },
      "execution_count": null,
      "outputs": [
        {
          "output_type": "stream",
          "name": "stdout",
          "text": [
            "101 sentences in training data\n"
          ]
        }
      ]
    },
    {
      "cell_type": "code",
      "source": [
        "words = []\n",
        "classes = []\n",
        "documents = []\n",
        "ignore_words = ['?']\n",
        "nltk.download('punkt')\n",
        "# loop para cada sentença dos dados de treinamento\n",
        "for pattern in training_data:\n",
        "    # tokeniza cada palavra da sentença\n",
        "    w = nltk.word_tokenize(pattern[1])\n",
        "    # adiciona na lista de palavras\n",
        "    words.extend(w)\n",
        "    # adiciona ao documento\n",
        "    documents.append((w, pattern[2]))\n",
        "    # adiciona para lista de classe\n",
        "    if pattern[2] not in classes:\n",
        "        classes.append(pattern[2])\n",
        "\n",
        "#radicalize e transfoma cada palavra\n",
        "words = [stemmer.stem(w.lower()) for w in words if w not in ignore_words]\n",
        "words = list(set(words))\n",
        "\n",
        "# remova duplicatas\n",
        "classes = list(set(classes))\n",
        "\n",
        "print (len(documents), \"documents\")\n",
        "print (len(classes), \"classes\", classes)\n",
        "print (len(words), \"unique stemmed words\", words)"
      ],
      "metadata": {
        "colab": {
          "base_uri": "https://localhost:8080/"
        },
        "id": "88lApPmh4Ags",
        "outputId": "20bec02c-f3d5-4eba-9f72-3f171604e7ad"
      },
      "execution_count": null,
      "outputs": [
        {
          "output_type": "stream",
          "name": "stdout",
          "text": [
            "101 documents\n",
            "6 classes ['Gryffindor', 'Ravenclaw', 'Durmstrang Institute', 'Beauxbatons Academy of Magic', 'Slytherin', 'Hufflepuff']\n",
            "198 unique stemmed words ['madam', 'romild', 'mariett', 'luci', 'perc', 'mol', 'minerv', 'cedr', 'lupin', 'den', 'wood', 'spinnet', 'de', 'j.', 'isabel', 'flacc', 'bel', 'malfoy', 'slytherin', 'van', 'thoma', 'scorpi', 'regul', 'maxim', 'percy', 'amyc', ')', 'brown', 'greg', 'montagu', 'yaxley', 'terry', 'sybil', 'snap', 'corb', 'fri', 'pet', 'charl', 'crab', 'rowen', 'edward', 'narciss', 'olymp', 'eug', 'ol', 'corn', 'krum', 'bla', 'dean', 'herm', 'zabin', 'garrick', 'bulstrod', 'fat', 'theod', 'parvat', 'dumbl', 'jord', 'quirrel', 'august', 'marc', 'harry', 'rookwood', 'michael', 'abbot', 'dolohov', 'alb', 'longbottom', 'ginny', 'bloody', 'jean', 'fili', 'pansy', 'wald', 'arth', 'goldstein', 'newton', 'nichola', 'antonin', 'godr', 'carrow', 'angelin', 'riddl', 'goyl', 'marvolo', 'seam', 'wulfr', 'pot', 'hannah', 'edg', 'macnair', 'parkinson', 'lockhart', 'weasley', 'delaco', 'bil', 'alecto', 'gabriel', 'johnson', 'umbridg', 'arctur', 'georg', 'dig', 'war', 'finnig', 'belby', 'justin', 'bon', '(', 'mcgonagall', 'vint', 'davy', 'patric', 'bellatrix', 'jan', 'sus', 'elizabe', 'helg', 'padm', 'frank', 'rem', 'pomon', 'black', 'myrtl', 'smi', 'hagrid', 'ravenclaw', 'tonk', 'ignati', 'mil', 'helen', 'gryffind', 'cormac', 'william', 'jam', 'edgecomb', 'john', 'ronald', 'clearw', 'salaz', 'cho', 'sever', 'grang', 'tom', 'nevil', 'hufflepuff', 'trelawney', 'colin', 'siri', 'zacharia', 'penelop', 'anthony', 'flint', 'flitwick', 'ros', 'granger-weasley', 'creevey', 'lun', 'fle', 'dol', 'fred', 'macmil', 'katy', 'gilderoy', 'patil', 'bili', 'nymphador', 'bri', 'not', 'hyp', 'lily', 'draco', 'scamand', 'vikt', 'quirin', 'ollivand', 'horac', 'lavend', 'mclaggen', 'pettigrew', 'ernest', 'ginevr', 'chang', 'lee', 'slughorn', 'sprout', 'moan', 'boot', 'mimsy-porpington', 'lovegood', 'lestrang', 'rog', 'graham', 'finch-fletchley', 'alic', 'rodolph', 'baron', 'rube']\n"
          ]
        },
        {
          "output_type": "stream",
          "name": "stderr",
          "text": [
            "[nltk_data] Downloading package punkt to /root/nltk_data...\n",
            "[nltk_data]   Package punkt is already up-to-date!\n"
          ]
        }
      ]
    },
    {
      "cell_type": "code",
      "source": [
        "# criação da lista de treinamento\n",
        "training = []\n",
        "output = []\n",
        "#cria um vetor vazio para saida\n",
        "output_empty = [0] * len(classes)\n",
        "\n",
        "# treina o saco de palavras\n",
        "for doc in documents:\n",
        "    #inicializa\n",
        "    bag = []\n",
        "    #listagem\n",
        "    pattern_words = doc[0]\n",
        "    # radicaliza cada palavra\n",
        "    pattern_words = [stemmer.stem(word.lower()) for word in pattern_words]\n",
        "    # cria o saco de palavras\n",
        "    for w in words:\n",
        "        bag.append(1) if w in pattern_words else bag.append(0)\n",
        "\n",
        "    training.append(bag)\n",
        "    # a saída é um '0' para cada tag e '1' para a tag atual\n",
        "    output_row = list(output_empty)\n",
        "    output_row[classes.index(doc[1])] = 1\n",
        "    output.append(output_row)\n",
        "\n",
        "print (\"# words\", len(words))\n",
        "print (\"# classes\", len(classes))"
      ],
      "metadata": {
        "id": "CrB7xTftB3ta",
        "colab": {
          "base_uri": "https://localhost:8080/"
        },
        "outputId": "e892ab59-fc4e-420b-d7fa-567977a8e9a2"
      },
      "execution_count": null,
      "outputs": [
        {
          "output_type": "stream",
          "name": "stdout",
          "text": [
            "# words 198\n",
            "# classes 6\n"
          ]
        }
      ]
    },
    {
      "cell_type": "code",
      "source": [
        "# amostra de treinamento/saída\n",
        "i = 0\n",
        "w = documents[i][0]\n",
        "print ([stemmer.stem(word.lower()) for word in w])\n",
        "print (training[i])\n",
        "print (output[i])"
      ],
      "metadata": {
        "id": "3E9LD6qLB8Wi",
        "colab": {
          "base_uri": "https://localhost:8080/"
        },
        "outputId": "ff22428f-d860-4661-ca2b-3890be706638"
      },
      "execution_count": null,
      "outputs": [
        {
          "output_type": "stream",
          "name": "stdout",
          "text": [
            "['harry', 'jam', 'pot']\n",
            "[0, 0, 0, 0, 0, 0, 0, 0, 0, 0, 0, 0, 0, 0, 0, 0, 0, 0, 0, 0, 0, 0, 0, 0, 0, 0, 0, 0, 0, 0, 0, 0, 0, 0, 0, 0, 0, 0, 0, 0, 0, 0, 0, 0, 0, 0, 0, 0, 0, 0, 0, 0, 0, 0, 0, 0, 0, 0, 0, 0, 0, 1, 0, 0, 0, 0, 0, 0, 0, 0, 0, 0, 0, 0, 0, 0, 0, 0, 0, 0, 0, 0, 0, 0, 0, 0, 0, 1, 0, 0, 0, 0, 0, 0, 0, 0, 0, 0, 0, 0, 0, 0, 0, 0, 0, 0, 0, 0, 0, 0, 0, 0, 0, 0, 0, 0, 0, 0, 0, 0, 0, 0, 0, 0, 0, 0, 0, 0, 0, 0, 0, 0, 0, 0, 1, 0, 0, 0, 0, 0, 0, 0, 0, 0, 0, 0, 0, 0, 0, 0, 0, 0, 0, 0, 0, 0, 0, 0, 0, 0, 0, 0, 0, 0, 0, 0, 0, 0, 0, 0, 0, 0, 0, 0, 0, 0, 0, 0, 0, 0, 0, 0, 0, 0, 0, 0, 0, 0, 0, 0, 0, 0, 0, 0, 0, 0, 0, 0]\n",
            "[1, 0, 0, 0, 0, 0]\n"
          ]
        }
      ]
    },
    {
      "cell_type": "code",
      "source": [],
      "metadata": {
        "id": "gaj5FsjeNR9X"
      },
      "execution_count": null,
      "outputs": []
    },
    {
      "cell_type": "code",
      "source": [
        "sentences = ['Katia is in RaRaRa', 'Mariana is in GriGriGri']\n",
        "\n",
        "for s in sentences:\n",
        "  print (s)"
      ],
      "metadata": {
        "id": "zT4PrSBXqL7F",
        "colab": {
          "base_uri": "https://localhost:8080/"
        },
        "outputId": "34bb29fb-dcd9-4396-d0c2-f9852ef47ec2"
      },
      "execution_count": null,
      "outputs": [
        {
          "output_type": "stream",
          "name": "stdout",
          "text": [
            "Katia is in RaRaRa\n",
            "Mariana is in GriGriGri\n"
          ]
        }
      ]
    },
    {
      "cell_type": "code",
      "source": [
        "#from numpy.lib.function_base import vectorize\n",
        "from sklearn.feature_extraction.text import TfidfVectorizer\n",
        "from sklearn.feature_extraction.text import CountVectorizer\n",
        "\n",
        "#pega um vectorizer com seus parametros básicos\n",
        "vectorizer = CountVectorizer()\n",
        "#Diz ao vectorizes ara criar o vocabulario das sentenças chamadnoo metodo fit e passando as sentenças\n",
        "vectfit=vectorizer.fit(sentences)\n",
        "#o vocablario é encontrado em vocabulary_\n",
        "print(vectorizer.vocabulary_) #essa ordem é a propria biblioteca que cria\n",
        "print('Numero de palavras diferentes/tamanho do vocabulario',len(vectorizer.vocabulary_) )"
      ],
      "metadata": {
        "id": "iKbdNPxElNTk",
        "colab": {
          "base_uri": "https://localhost:8080/"
        },
        "outputId": "e02c6f5b-fca2-4977-cfe6-bfbd56ef8917"
      },
      "execution_count": null,
      "outputs": [
        {
          "output_type": "stream",
          "name": "stdout",
          "text": [
            "{'katia': 3, 'is': 2, 'in': 1, 'rarara': 5, 'mariana': 4, 'grigrigri': 0}\n",
            "Numero de palavras diferentes/tamanho do vocabulario 6\n"
          ]
        }
      ]
    },
    {
      "cell_type": "markdown",
      "source": [
        "\n",
        "Para obter os valores, chamar o metodo transform no vectorizes e passe o corpus(sentences) para ele. Ele vai retornar uma matriz esparsa\n",
        "\n",
        "O metodo to array foi utilizado para coloca rna forma de vetores\n",
        "\n",
        "---\n",
        "\n"
      ],
      "metadata": {
        "id": "q9PAwCXqpQrV"
      }
    },
    {
      "cell_type": "code",
      "source": [
        "v1 = vectorizer.transform(sentences).toarray()\n",
        "print(v1)"
      ],
      "metadata": {
        "id": "IEyQlszLpy3v",
        "colab": {
          "base_uri": "https://localhost:8080/"
        },
        "outputId": "b7fb5768-17ef-4367-d0ef-0483b285c121"
      },
      "execution_count": null,
      "outputs": [
        {
          "output_type": "stream",
          "name": "stdout",
          "text": [
            "[[0 1 1 1 0 1]\n",
            " [1 1 1 0 1 0]]\n"
          ]
        }
      ]
    },
    {
      "cell_type": "code",
      "source": [
        "import numpy as np\n",
        "import time\n",
        "\n",
        "# a função sigmoide é utilizada para normalizar valores e sua derivada para medir a taxa de erro\n",
        "# compute sigmoid nonlinearity\n",
        "def sigmoid(x):\n",
        "    output = 1/(1+np.exp(-x))\n",
        "    return output\n",
        "\n",
        "# convert output of sigmoid function to its derivative\n",
        "def sigmoid_output_to_derivative(output):\n",
        "    return output*(1-output)\n",
        "\n",
        "def clean_up_sentence(sentence):\n",
        "    # tokenize the pattern\n",
        "    sentence_words = nltk.word_tokenize(sentence)\n",
        "    # stem each word\n",
        "    sentence_words = [stemmer.stem(word.lower()) for word in sentence_words]\n",
        "    return sentence_words\n",
        "\n",
        "#Também abaixo implementamos nossa função de saco de palavras, transformando uma frase de\n",
        "#entrada em uma matriz de 0 e 1.\n",
        "def bow(sentence, words, show_details=False):\n",
        "    # tokenize the pattern\n",
        "    sentence_words = clean_up_sentence(sentence)\n",
        "    # bag of words\n",
        "    bag = [0]*len(words)\n",
        "    for s in sentence_words:\n",
        "        for i,w in enumerate(words):\n",
        "            if w == s:\n",
        "                bag[i] = 1\n",
        "                if show_details:\n",
        "                    print (\"found in bag: %s\" % w)\n",
        "\n",
        "    return(np.array(bag))\n",
        "\n",
        "def think(sentence, show_details=False):\n",
        "    x = bow(sentence.lower(), words, show_details)\n",
        "    if show_details:\n",
        "        print (\"sentence:\", sentence, \"\\n bow:\", x)\n",
        "    # input layer is our bag of words\n",
        "    l0 = x\n",
        "    # matrix multiplication of input and hidden layer\n",
        "    l1 = sigmoid(np.dot(l0, synapse_0))\n",
        "    # output layer\n",
        "    l2 = sigmoid(np.dot(l1, synapse_1))\n",
        "    return l2"
      ],
      "metadata": {
        "id": "K37C1YvmCDOy"
      },
      "execution_count": null,
      "outputs": []
    },
    {
      "cell_type": "code",
      "source": [
        "#Codificamos nossa função de treinamento de rede neural para criar pesos\n",
        "#sinápticos. Não fique muito animado, isso é principalmente multiplicação de matriz\n",
        "\n",
        "\n",
        "def train(X, y, hidden_neurons=20, alpha=1, epochs=5000, dropout=False, dropout_percent=0.5):\n",
        "\n",
        "    print (\"Training with %s neurons, alpha:%s, dropout:%s %s\" % (hidden_neurons, str(alpha), dropout, dropout_percent if dropout else '') )\n",
        "    print (\"Input matrix: %sx%s    Output matrix: %sx%s\" % (len(X),len(X[0]),1, len(classes)) )\n",
        "    np.random.seed(1)\n",
        "\n",
        "    last_mean_error = 1\n",
        "    # randomly initialize our weights with mean 0\n",
        "    synapse_0 = 2*np.random.random((len(X[0]), hidden_neurons)) - 1\n",
        "    synapse_1 = 2*np.random.random((hidden_neurons, len(classes))) - 1\n",
        "\n",
        "    prev_synapse_0_weight_update = np.zeros_like(synapse_0)\n",
        "    prev_synapse_1_weight_update = np.zeros_like(synapse_1)\n",
        "\n",
        "    synapse_0_direction_count = np.zeros_like(synapse_0)\n",
        "    synapse_1_direction_count = np.zeros_like(synapse_1)\n",
        "\n",
        "    for j in iter(range(epochs+1)):\n",
        "\n",
        "        # Feed forward through layers 0, 1, and 2\n",
        "        layer_0 = X\n",
        "        layer_1 = sigmoid(np.dot(layer_0, synapse_0))\n",
        "\n",
        "        if(dropout):\n",
        "            layer_1 *= np.random.binomial([np.ones((len(X),hidden_neurons))],1-dropout_percent)[0] * (1.0/(1-dropout_percent))\n",
        "\n",
        "        layer_2 = sigmoid(np.dot(layer_1, synapse_1))\n",
        "\n",
        "        # how much did we miss the target value?\n",
        "        layer_2_error = y - layer_2\n",
        "\n",
        "        if (j% 10000) == 0 and j > 5000:\n",
        "            # if this 10k iteration's error is greater than the last iteration, break out\n",
        "            if np.mean(np.abs(layer_2_error)) < last_mean_error:\n",
        "                print (\"delta after \"+str(j)+\" iterations:\" + str(np.mean(np.abs(layer_2_error))) )\n",
        "                last_mean_error = np.mean(np.abs(layer_2_error))\n",
        "            else:\n",
        "                print (\"break:\", np.mean(np.abs(layer_2_error)), \">\", last_mean_error )\n",
        "                break\n",
        "\n",
        "        # in what direction is the target value?\n",
        "        # were we really sure? if so, don't change too much.\n",
        "        layer_2_delta = layer_2_error * sigmoid_output_to_derivative(layer_2)\n",
        "\n",
        "        # how much did each l1 value contribute to the l2 error (according to the weights)?\n",
        "        layer_1_error = layer_2_delta.dot(synapse_1.T)\n",
        "\n",
        "        # in what direction is the target l1?\n",
        "        # were we really sure? if so, don't change too much.\n",
        "        layer_1_delta = layer_1_error * sigmoid_output_to_derivative(layer_1)\n",
        "\n",
        "        synapse_1_weight_update = (layer_1.T.dot(layer_2_delta))\n",
        "        synapse_0_weight_update = (layer_0.T.dot(layer_1_delta))\n",
        "\n",
        "        if(j > 0):\n",
        "            synapse_0_direction_count += np.abs(((synapse_0_weight_update > 0)+0) - ((prev_synapse_0_weight_update > 0) + 0))\n",
        "            synapse_1_direction_count += np.abs(((synapse_1_weight_update > 0)+0) - ((prev_synapse_1_weight_update > 0) + 0))\n",
        "\n",
        "        synapse_1 += alpha * synapse_1_weight_update\n",
        "        synapse_0 += alpha * synapse_0_weight_update\n",
        "\n",
        "        prev_synapse_0_weight_update = synapse_0_weight_update\n",
        "        prev_synapse_1_weight_update = synapse_1_weight_update\n",
        "\n",
        "    now = datetime.datetime.now()\n",
        "\n",
        "    # persist synapses\n",
        "    synapse = {'synapse0': synapse_0.tolist(), 'synapse1': synapse_1.tolist(),\n",
        "               'datetime': now.strftime(\"%Y-%m-%d %H:%M\"),\n",
        "               'words': words,\n",
        "               'classes': classes\n",
        "              }\n",
        "    synapse_file = \"synapses.json\"\n",
        "  #vamos salvá-lo como uma estrutura json para representar nossos pesos sinápticos\n",
        "    with open(synapse_file, 'w') as outfile:\n",
        "        json.dump(synapse, outfile, indent=4, sort_keys=True)\n",
        "    print (\"saved synapses to:\", synapse_file)"
      ],
      "metadata": {
        "id": "sn2lHCy5CGaa"
      },
      "execution_count": null,
      "outputs": []
    },
    {
      "cell_type": "code",
      "source": [
        "X = np.array(training)\n",
        "y = np.array(output)\n",
        "\n",
        "start_time = time.time()\n",
        "#Usou-se 20 neurônios em nossa camada oculta\n",
        "#Esses parâmetros variam dependendo das dimensões e da forma dos dados de treinamento\n",
        "train(X, y, hidden_neurons=20, alpha=0.1, epochs=5000, dropout=False, dropout_percent=0.2)\n",
        "\n",
        "elapsed_time = time.time() - start_time\n",
        "print (\"processing time:\", elapsed_time, \"seconds\")"
      ],
      "metadata": {
        "id": "SnUIwkV1CJyq",
        "colab": {
          "base_uri": "https://localhost:8080/"
        },
        "outputId": "4c1c90f1-dc34-4716-c3df-2e6d67366ad5"
      },
      "execution_count": null,
      "outputs": [
        {
          "output_type": "stream",
          "name": "stdout",
          "text": [
            "Training with 20 neurons, alpha:0.1, dropout:False \n",
            "Input matrix: 101x198    Output matrix: 1x6\n",
            "saved synapses to: synapses.json\n",
            "processing time: 7.978027820587158 seconds\n"
          ]
        }
      ]
    },
    {
      "cell_type": "code",
      "source": [
        "# probability threshold - limiar de probabilidade\n",
        "ERROR_THRESHOLD = 0.2\n",
        "# load our calculated synapse values\n",
        "synapse_file = 'synapses.json'\n",
        "with open(synapse_file) as data_file:\n",
        "    synapse = json.load(data_file)\n",
        "    synapse_0 = np.asarray(synapse['synapse0'])\n",
        "    synapse_1 = np.asarray(synapse['synapse1'])\n",
        "\n",
        "# Essa funçãoclassify()é tudo o que é necessário para a classificação uma vez que\n",
        "# os pesos das sinapses tenham sido calculados\n",
        "def classify(sentence, show_details=False):\n",
        "    results = think(sentence, show_details)\n",
        "\n",
        "    results = [[i,r] for i,r in enumerate(results) if r>ERROR_THRESHOLD ]\n",
        "    results.sort(key=lambda x: x[1], reverse=True)\n",
        "    return_results =[[classes[r[0]],r[1]] for r in results]\n",
        "    print (\"%s -> classificação: %s \\n\" % (sentence, return_results))\n",
        "    return return_results\n",
        "\n",
        "# Agora podemos gerar a probabilidade de uma sentença pertencer a uma (ou mais) de\n",
        "# nossas classes. Isso é super rápido porque é o cálculo do produto de ponto em nossa\n",
        "# funçãothink()function previamente definida.\n",
        "\n",
        "classify(\"Harry James Potter\", show_details=True)\n",
        "classify(\"Harry Potter\")\n",
        "classify(\"Harry\")\n",
        "classify(\"Snape\")\n",
        "classify(\"Luna\")\n",
        "classify(\"Draco\")\n",
        "classify(\"Hagrid\")\n",
        "classify(\"Newton Scamander\")\n",
        "\n",
        "\n",
        "classify(\"Katia\")\n",
        "classify(\"Lidia\")\n",
        "#classify(\"Thais\")\n",
        "#classify(\"Mariana\")\n",
        "#classify(\"Wigor\")\n",
        "#classify(\"Andre\")\n",
        "#classify(\"Juliana\")"
      ],
      "metadata": {
        "id": "T4TtRHerClAy",
        "colab": {
          "base_uri": "https://localhost:8080/"
        },
        "outputId": "1afd0669-3b70-479e-fc28-99c553c3bc95"
      },
      "execution_count": null,
      "outputs": [
        {
          "output_type": "stream",
          "name": "stdout",
          "text": [
            "found in bag: harry\n",
            "found in bag: jam\n",
            "found in bag: pot\n",
            "sentence: Harry James Potter \n",
            " bow: [0 0 0 0 0 0 0 0 0 0 0 0 0 0 0 0 0 0 0 0 0 0 0 0 0 0 0 0 0 0 0 0 0 0 0 0 0\n",
            " 0 0 0 0 0 0 0 0 0 0 0 0 0 0 0 0 0 0 0 0 0 0 0 0 1 0 0 0 0 0 0 0 0 0 0 0 0\n",
            " 0 0 0 0 0 0 0 0 0 0 0 0 0 1 0 0 0 0 0 0 0 0 0 0 0 0 0 0 0 0 0 0 0 0 0 0 0\n",
            " 0 0 0 0 0 0 0 0 0 0 0 0 0 0 0 0 0 0 0 0 0 0 0 1 0 0 0 0 0 0 0 0 0 0 0 0 0\n",
            " 0 0 0 0 0 0 0 0 0 0 0 0 0 0 0 0 0 0 0 0 0 0 0 0 0 0 0 0 0 0 0 0 0 0 0 0 0\n",
            " 0 0 0 0 0 0 0 0 0 0 0 0 0]\n",
            "Harry James Potter -> classificação: [['Gryffindor', 0.9981147672933475]] \n",
            "\n",
            "Harry Potter -> classificação: [['Gryffindor', 0.9751013110268988]] \n",
            "\n",
            "Harry -> classificação: [['Gryffindor', 0.4097476309405711]] \n",
            "\n",
            "Snape -> classificação: [] \n",
            "\n",
            "Luna -> classificação: [['Ravenclaw', 0.8262551860562383]] \n",
            "\n",
            "Draco -> classificação: [] \n",
            "\n",
            "Hagrid -> classificação: [['Gryffindor', 0.8669836016840703]] \n",
            "\n",
            "Newton Scamander -> classificação: [['Hufflepuff', 0.9907215478432573]] \n",
            "\n",
            "Katia -> classificação: [] \n",
            "\n",
            "Lidia -> classificação: [] \n",
            "\n"
          ]
        },
        {
          "output_type": "execute_result",
          "data": {
            "text/plain": [
              "[]"
            ]
          },
          "metadata": {},
          "execution_count": 16
        }
      ]
    }
  ]
}